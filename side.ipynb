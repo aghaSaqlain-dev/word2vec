{
 "cells": [
  {
   "cell_type": "code",
   "execution_count": 3,
   "id": "ed028277",
   "metadata": {},
   "outputs": [
    {
     "data": {
      "text/plain": [
       "'output.txt'"
      ]
     },
     "execution_count": 3,
     "metadata": {},
     "output_type": "execute_result"
    }
   ],
   "source": [
    "import PyPDF2\n",
    "\n",
    "# Path to the PDF file\n",
    "pdf_path = \"scan.pdf\"\n",
    "\n",
    "# Extract text from the PDF\n",
    "with open(pdf_path, \"rb\") as pdf_file:\n",
    "    reader = PyPDF2.PdfReader(pdf_file)\n",
    "    raw_text = \"\"\n",
    "    for page in reader.pages:\n",
    "        raw_text += page.extract_text()\n",
    "\n",
    "# Remove line breaks\n",
    "text_without_line_breaks = raw_text.replace(\"\\n\", \" \")\n",
    "text_without_line_breaks = text_without_line_breaks.replace(\" - \", \" \")  # Remove hyphenated line breaks\n",
    "\n",
    "\n",
    "# Save this version into a .txt file\n",
    "output_path_no_line_breaks = \"output.txt\"\n",
    "with open(output_path_no_line_breaks, \"w\", encoding=\"utf-8\") as f:\n",
    "    f.write(text_without_line_breaks)\n",
    "\n",
    "output_path_no_line_breaks"
   ]
  },
  {
   "cell_type": "code",
   "execution_count": 5,
   "id": "7246d57b",
   "metadata": {},
   "outputs": [
    {
     "name": "stdout",
     "output_type": "stream",
     "text": [
      "Total unique words: 2044\n"
     ]
    }
   ],
   "source": [
    "from pypdf import PdfReader\n",
    "\n",
    "import re\n",
    "\n",
    "# Path to the PDF\n",
    "pdf_path = \"scan.pdf\"\n",
    "\n",
    "# Read PDF and extract all text\n",
    "reader = PdfReader(pdf_path)\n",
    "raw_text = \"\"\n",
    "for page in reader.pages:\n",
    "    text = page.extract_text()\n",
    "    if text:\n",
    "        raw_text += text + \" \"\n",
    "\n",
    "# Normalize and extract words (ignore punctuation)\n",
    "words = re.findall(r'\\b\\w+\\b', raw_text.lower())\n",
    "\n",
    "# Count unique words\n",
    "unique_words = set(words)\n",
    "print(f\"Total unique words: {len(unique_words)}\")"
   ]
  },
  {
   "cell_type": "code",
   "execution_count": 1,
   "id": "3e11489f",
   "metadata": {},
   "outputs": [
    {
     "data": {
      "text/plain": [
       "'output1.txt'"
      ]
     },
     "execution_count": 1,
     "metadata": {},
     "output_type": "execute_result"
    }
   ],
   "source": [
    "import PyPDF2\n",
    "\n",
    "# Path to the PDF file\n",
    "pdf_path = \"scan1.pdf\"\n",
    "\n",
    "# Extract text from the PDF\n",
    "with open(pdf_path, \"rb\") as pdf_file:\n",
    "    reader = PyPDF2.PdfReader(pdf_file)\n",
    "    raw_text = \"\"\n",
    "    for page in reader.pages:\n",
    "        raw_text += page.extract_text()\n",
    "\n",
    "# Remove line breaks\n",
    "text_without_line_breaks = raw_text.replace(\"\\n\", \" \")\n",
    "text_without_line_breaks = text_without_line_breaks.replace(\" - \", \" \")  # Remove hyphenated line breaks\n",
    "\n",
    "\n",
    "# Save this version into a .txt file\n",
    "output_path_no_line_breaks = \"output1.txt\"\n",
    "with open(output_path_no_line_breaks, \"w\", encoding=\"utf-8\") as f:\n",
    "    f.write(text_without_line_breaks)\n",
    "\n",
    "output_path_no_line_breaks"
   ]
  }
 ],
 "metadata": {
  "kernelspec": {
   "display_name": "base",
   "language": "python",
   "name": "python3"
  },
  "language_info": {
   "codemirror_mode": {
    "name": "ipython",
    "version": 3
   },
   "file_extension": ".py",
   "mimetype": "text/x-python",
   "name": "python",
   "nbconvert_exporter": "python",
   "pygments_lexer": "ipython3",
   "version": "3.12.7"
  }
 },
 "nbformat": 4,
 "nbformat_minor": 5
}
