{
 "cells": [
  {
   "cell_type": "code",
   "execution_count": 6,
   "id": "ed028277",
   "metadata": {},
   "outputs": [
    {
     "data": {
      "text/plain": [
       "'output.txt'"
      ]
     },
     "execution_count": 6,
     "metadata": {},
     "output_type": "execute_result"
    }
   ],
   "source": [
    "import PyPDF2\n",
    "\n",
    "# Path to the PDF file\n",
    "pdf_path = \"scan.pdf\"\n",
    "\n",
    "# Extract text from the PDF\n",
    "with open(pdf_path, \"rb\") as pdf_file:\n",
    "    reader = PyPDF2.PdfReader(pdf_file)\n",
    "    raw_text = \"\"\n",
    "    for page in reader.pages:\n",
    "        raw_text += page.extract_text()\n",
    "\n",
    "# Remove line breaks\n",
    "text_without_line_breaks = raw_text.replace(\"\\n\", \" \")\n",
    "text_without_line_breaks = text_without_line_breaks.replace(\" - \", \" \")  # Remove hyphenated line breaks\n",
    "\n",
    "\n",
    "# Save this version into a .txt file\n",
    "output_path_no_line_breaks = \"output.txt\"\n",
    "with open(output_path_no_line_breaks, \"w\", encoding=\"utf-8\") as f:\n",
    "    f.write(text_without_line_breaks)\n",
    "\n",
    "output_path_no_line_breaks"
   ]
  }
 ],
 "metadata": {
  "kernelspec": {
   "display_name": "base",
   "language": "python",
   "name": "python3"
  },
  "language_info": {
   "codemirror_mode": {
    "name": "ipython",
    "version": 3
   },
   "file_extension": ".py",
   "mimetype": "text/x-python",
   "name": "python",
   "nbconvert_exporter": "python",
   "pygments_lexer": "ipython3",
   "version": "3.12.3"
  }
 },
 "nbformat": 4,
 "nbformat_minor": 5
}
